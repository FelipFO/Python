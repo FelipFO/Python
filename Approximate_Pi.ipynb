{
  "nbformat": 4,
  "nbformat_minor": 0,
  "metadata": {
    "colab": {
      "provenance": []
    },
    "kernelspec": {
      "name": "python3",
      "display_name": "Python 3"
    },
    "language_info": {
      "name": "python"
    }
  },
  "cells": [
    {
      "cell_type": "code",
      "execution_count": 2,
      "metadata": {
        "colab": {
          "base_uri": "https://localhost:8080/"
        },
        "id": "TxnYaJUP38EA",
        "outputId": "c7a7b065-de99-462e-8efc-b3c129f7e230"
      },
      "outputs": [
        {
          "output_type": "stream",
          "name": "stdout",
          "text": [
            "Approximation of Pi with 1000000 samples: 3.142528\n"
          ]
        }
      ],
      "source": [
        "def approximate_pi(num_samples):\n",
        "    \"\"\"Approximates the value of Pi using a Monte Carlo simulation.\n",
        "\n",
        "    Args:\n",
        "        num_samples: The number of random points to generate.\n",
        "\n",
        "    Returns:\n",
        "        The approximate value of Pi.\n",
        "    \"\"\"\n",
        "\n",
        "    points_inside_circle = 0\n",
        "\n",
        "    for _ in range(num_samples):\n",
        "        # Generate random x and y coordinates between -1 and 1\n",
        "        x = random.uniform(-1, 1)\n",
        "        y = random.uniform(-1, 1)\n",
        "\n",
        "        # Check if the point lies inside the unit circle using squared distance\n",
        "        if x**2 + y**2 <= 1:\n",
        "            points_inside_circle += 1\n",
        "\n",
        "    # Calculate the ratio of points inside the circle to the total points\n",
        "    pi_approximation = 4 * points_inside_circle / num_samples\n",
        "\n",
        "    return pi_approximation\n",
        "\n",
        "# Example usage with 1,000,000 samples\n",
        "num_samples = 1000000\n",
        "pi_approx = approximate_pi(num_samples)\n",
        "print(f\"Approximation of Pi with {num_samples} samples: {pi_approx}\")\n"
      ]
    }
  ]
}