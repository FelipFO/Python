{
  "nbformat": 4,
  "nbformat_minor": 0,
  "metadata": {
    "colab": {
      "provenance": []
    },
    "kernelspec": {
      "name": "python3",
      "display_name": "Python 3"
    },
    "language_info": {
      "name": "python"
    }
  },
  "cells": [
    {
      "cell_type": "code",
      "execution_count": 1,
      "metadata": {
        "colab": {
          "base_uri": "https://localhost:8080/"
        },
        "id": "eUO74Rmzt9xT",
        "outputId": "48575403-1f62-4697-dba0-113d228ba5e3"
      },
      "outputs": [
        {
          "name": "stdout",
          "output_type": "stream",
          "text": [
            "Sentiment: unknown\n",
            "Sentiment: unknown\n",
            "Sentiment: unknown\n",
            "Sentiment: unknown\n",
            "Sentiment: unknown\n",
            "Sentiment: unknown\n",
            "Enter a short text (up to 50 words) or type 'quit' to exit: quit\n"
          ]
        }
      ],
      "source": [
        "import requests\n",
        "\n",
        "def analyze_sentiment(text):\n",
        "    \"\"\"Analyzes sentiment of a short text using an LLM API.\"\"\"\n",
        "\n",
        "    api_key = \"YOUR_API_KEY\"  # Replace with your actual API key\n",
        "    api_url = \"https://api.openai.com/v1/engines/davinci-codex/completions\"\n",
        "\n",
        "    headers = {\n",
        "        \"Content-Type\": \"application/json\",\n",
        "        \"Authorization\": f\"Bearer {api_key}\"\n",
        "    }\n",
        "\n",
        "    data = {\n",
        "        \"prompt\": f\"Classify the sentiment of this short text as 'happy', 'sad', or 'angry':\\n\\n{text}\\n\\nSentiment:\",\n",
        "        \"max_tokens\": 1,  # We only need one word for the sentiment\n",
        "        \"temperature\": 0.0  # Ensure deterministic output\n",
        "    }\n",
        "\n",
        "    response = requests.post(api_url, headers=headers, json=data)\n",
        "    response_json = response.json()\n",
        "\n",
        "    if \"choices\" in response_json:\n",
        "        sentiment = response_json[\"choices\"][0][\"text\"].strip().lower()\n",
        "        if sentiment in [\"happy\", \"sad\", \"angry\"]:\n",
        "            return sentiment\n",
        "    return \"unknown\"  # If the API doesn't provide a clear answer\n",
        "\n",
        "while True:\n",
        "    text = input(\"Enter a short text (up to 50 words) or type 'quit' to exit: \")\n",
        "    if text.lower() == \"quit\":\n",
        "        break\n",
        "\n",
        "    words = text.split()\n",
        "    if len(words) > 50:\n",
        "        print(\"Text exceeds 50 words. Please try again.\")\n",
        "        continue\n",
        "\n",
        "    sentiment = analyze_sentiment(text)\n",
        "    print(f\"Sentiment: {sentiment}\")"
      ]
    }
  ]
}