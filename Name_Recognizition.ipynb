{
  "nbformat": 4,
  "nbformat_minor": 0,
  "metadata": {
    "colab": {
      "provenance": []
    },
    "kernelspec": {
      "name": "python3",
      "display_name": "Python 3"
    },
    "language_info": {
      "name": "python"
    }
  },
  "cells": [
    {
      "cell_type": "code",
      "execution_count": 1,
      "metadata": {
        "colab": {
          "base_uri": "https://localhost:8080/"
        },
        "id": "WxpyVlcB5EHs",
        "outputId": "6dddc6b2-930e-4bd6-be58-522e1be16c4b"
      },
      "outputs": [
        {
          "name": "stdout",
          "output_type": "stream",
          "text": [
            "Enter a name (or 'quit' to exit): Maria\n",
            "The name 'Maria' is likely associated with the gender: female\n",
            "Enter a name (or 'quit' to exit): exit\n",
            "The name 'exit' is likely associated with the gender: male\n",
            "Enter a name (or 'quit' to exit): quit\n"
          ]
        }
      ],
      "source": [
        "import requests\n",
        "import json\n",
        "\n",
        "def recognize_name_gender(name):\n",
        "    \"\"\"Recognizes a name and associates a gender using the Genderize.io API.\"\"\"\n",
        "\n",
        "    base_url = \"https://api.genderize.io/\"\n",
        "    params = {\"name\": name}\n",
        "\n",
        "    response = requests.get(base_url, params=params)\n",
        "\n",
        "    if response.status_code == 200:\n",
        "        data = response.json()\n",
        "        gender = data.get(\"gender\")\n",
        "        probability = data.get(\"probability\")\n",
        "\n",
        "        if gender and probability > 0.7:  # Adjust threshold as needed\n",
        "            return gender\n",
        "        else:\n",
        "            return \"unknown\"\n",
        "    else:\n",
        "        return \"error\"\n",
        "\n",
        "# Example usage\n",
        "while True:\n",
        "    user_input = input(\"Enter a name (or 'quit' to exit): \")\n",
        "    if user_input.lower() == 'quit':\n",
        "        break\n",
        "\n",
        "    gender = recognize_name_gender(user_input)\n",
        "    print(f\"The name '{user_input}' is likely associated with the gender: {gender}\")"
      ]
    }
  ]
}